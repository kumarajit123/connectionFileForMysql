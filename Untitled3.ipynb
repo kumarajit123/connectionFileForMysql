{
 "cells": [
  {
   "cell_type": "code",
   "execution_count": 3,
   "id": "c794c49f",
   "metadata": {},
   "outputs": [
    {
     "name": "stdout",
     "output_type": "stream",
     "text": [
      "Requirement already satisfied: ipython-sql in c:\\users\\hp\\appdata\\local\\programs\\python\\python311\\lib\\site-packages (0.5.0)\n",
      "Requirement already satisfied: prettytable in c:\\users\\hp\\appdata\\local\\programs\\python\\python311\\lib\\site-packages (from ipython-sql) (3.7.0)\n",
      "Requirement already satisfied: ipython in c:\\users\\hp\\appdata\\local\\programs\\python\\python311\\lib\\site-packages (from ipython-sql) (8.13.2)\n",
      "Requirement already satisfied: sqlalchemy>=2.0 in c:\\users\\hp\\appdata\\local\\programs\\python\\python311\\lib\\site-packages (from ipython-sql) (2.0.15)\n",
      "Requirement already satisfied: sqlparse in c:\\users\\hp\\appdata\\local\\programs\\python\\python311\\lib\\site-packages (from ipython-sql) (0.4.4)\n",
      "Requirement already satisfied: six in c:\\users\\hp\\appdata\\local\\programs\\python\\python311\\lib\\site-packages (from ipython-sql) (1.16.0)\n",
      "Requirement already satisfied: ipython-genutils in c:\\users\\hp\\appdata\\local\\programs\\python\\python311\\lib\\site-packages (from ipython-sql) (0.2.0)\n",
      "Requirement already satisfied: typing-extensions>=4.2.0 in c:\\users\\hp\\appdata\\local\\programs\\python\\python311\\lib\\site-packages (from sqlalchemy>=2.0->ipython-sql) (4.6.2)\n",
      "Requirement already satisfied: greenlet!=0.4.17 in c:\\users\\hp\\appdata\\local\\programs\\python\\python311\\lib\\site-packages (from sqlalchemy>=2.0->ipython-sql) (2.0.2)\n",
      "Requirement already satisfied: backcall in c:\\users\\hp\\appdata\\local\\programs\\python\\python311\\lib\\site-packages (from ipython->ipython-sql) (0.2.0)\n",
      "Requirement already satisfied: decorator in c:\\users\\hp\\appdata\\local\\programs\\python\\python311\\lib\\site-packages (from ipython->ipython-sql) (5.1.1)\n",
      "Requirement already satisfied: jedi>=0.16 in c:\\users\\hp\\appdata\\local\\programs\\python\\python311\\lib\\site-packages (from ipython->ipython-sql) (0.17.2)\n",
      "Requirement already satisfied: matplotlib-inline in c:\\users\\hp\\appdata\\local\\programs\\python\\python311\\lib\\site-packages (from ipython->ipython-sql) (0.1.6)\n",
      "Requirement already satisfied: pickleshare in c:\\users\\hp\\appdata\\local\\programs\\python\\python311\\lib\\site-packages (from ipython->ipython-sql) (0.7.5)\n",
      "Requirement already satisfied: prompt-toolkit!=3.0.37,<3.1.0,>=3.0.30 in c:\\users\\hp\\appdata\\local\\programs\\python\\python311\\lib\\site-packages (from ipython->ipython-sql) (3.0.38)\n",
      "Requirement already satisfied: pygments>=2.4.0 in c:\\users\\hp\\appdata\\local\\programs\\python\\python311\\lib\\site-packages (from ipython->ipython-sql) (2.15.1)\n",
      "Requirement already satisfied: stack-data in c:\\users\\hp\\appdata\\local\\programs\\python\\python311\\lib\\site-packages (from ipython->ipython-sql) (0.6.2)\n",
      "Requirement already satisfied: traitlets>=5 in c:\\users\\hp\\appdata\\local\\programs\\python\\python311\\lib\\site-packages (from ipython->ipython-sql) (5.9.0)\n",
      "Requirement already satisfied: colorama in c:\\users\\hp\\appdata\\local\\programs\\python\\python311\\lib\\site-packages (from ipython->ipython-sql) (0.4.6)\n",
      "Requirement already satisfied: wcwidth in c:\\users\\hp\\appdata\\local\\programs\\python\\python311\\lib\\site-packages (from prettytable->ipython-sql) (0.2.6)\n",
      "Requirement already satisfied: parso<0.8.0,>=0.7.0 in c:\\users\\hp\\appdata\\local\\programs\\python\\python311\\lib\\site-packages (from jedi>=0.16->ipython->ipython-sql) (0.7.1)\n",
      "Requirement already satisfied: executing>=1.2.0 in c:\\users\\hp\\appdata\\local\\programs\\python\\python311\\lib\\site-packages (from stack-data->ipython->ipython-sql) (1.2.0)\n",
      "Requirement already satisfied: asttokens>=2.1.0 in c:\\users\\hp\\appdata\\local\\programs\\python\\python311\\lib\\site-packages (from stack-data->ipython->ipython-sql) (2.2.1)\n",
      "Requirement already satisfied: pure-eval in c:\\users\\hp\\appdata\\local\\programs\\python\\python311\\lib\\site-packages (from stack-data->ipython->ipython-sql) (0.2.2)\n",
      "Note: you may need to restart the kernel to use updated packages.\n"
     ]
    },
    {
     "name": "stderr",
     "output_type": "stream",
     "text": [
      "\n",
      "[notice] A new release of pip available: 22.3.1 -> 23.1.2\n",
      "[notice] To update, run: python.exe -m pip install --upgrade pip\n"
     ]
    }
   ],
   "source": [
    "pip install ipython-sql"
   ]
  },
  {
   "cell_type": "code",
   "execution_count": 5,
   "id": "20f3911b",
   "metadata": {},
   "outputs": [
    {
     "name": "stdout",
     "output_type": "stream",
     "text": [
      "The sql extension is already loaded. To reload it, use:\n",
      "  %reload_ext sql\n"
     ]
    }
   ],
   "source": [
    "%load_ext sql"
   ]
  },
  {
   "cell_type": "code",
   "execution_count": 7,
   "id": "05370495",
   "metadata": {},
   "outputs": [],
   "source": [
    "%reload_ext sql"
   ]
  },
  {
   "cell_type": "code",
   "execution_count": 9,
   "id": "0ff0f385",
   "metadata": {},
   "outputs": [],
   "source": [
    "%config SqlMagic.autopandas=True"
   ]
  },
  {
   "cell_type": "code",
   "execution_count": 11,
   "id": "3a4c598c",
   "metadata": {},
   "outputs": [
    {
     "ename": "ModuleNotFoundError",
     "evalue": "No module named 'MySQLdb'",
     "output_type": "error",
     "traceback": [
      "\u001b[1;31m---------------------------------------------------------------------------\u001b[0m",
      "\u001b[1;31mModuleNotFoundError\u001b[0m                       Traceback (most recent call last)",
      "Cell \u001b[1;32mIn[11], line 1\u001b[0m\n\u001b[1;32m----> 1\u001b[0m \u001b[38;5;28;01mimport\u001b[39;00m \u001b[38;5;21;01mMySQLdb\u001b[39;00m\n",
      "\u001b[1;31mModuleNotFoundError\u001b[0m: No module named 'MySQLdb'"
     ]
    }
   ],
   "source": [
    "import MySQLdb"
   ]
  },
  {
   "cell_type": "code",
   "execution_count": 22,
   "id": "60dfbe4f",
   "metadata": {},
   "outputs": [],
   "source": [
    "import pandas as pd  # - with datafame\n",
    "from sqlalchemy import create_engine # - create connection to database\n",
    "import pymysql # package for working with  MySQL"
   ]
  },
  {
   "cell_type": "code",
   "execution_count": 24,
   "id": "046b502c",
   "metadata": {},
   "outputs": [],
   "source": [
    "user = \"root\" # - your login\n",
    "password = \"ajit\" # - your password (if you don't know, ask your IT Guy ;)\n",
    "host = \"127.0.0.1\" # - it's ip address , where database is located \n",
    "db_name = 'virat' # database name\n",
    "port = 3306 # port of ip adress (by default is 3306 for MySQL)\n",
    "\n",
    "#we make connection to our MySQL Database\n",
    "sqlEngine       = create_engine(f'mysql+pymysql://{user}:{password}@{host}/{db_name}', pool_recycle=port)\n",
    "dbConnection    = sqlEngine.connect() \n"
   ]
  },
  {
   "cell_type": "code",
   "execution_count": 29,
   "id": "cee5fad3",
   "metadata": {},
   "outputs": [],
   "source": [
    "sql=\"select * from virat.stat\";"
   ]
  },
  {
   "cell_type": "code",
   "execution_count": 30,
   "id": "d3b1595e",
   "metadata": {},
   "outputs": [],
   "source": [
    "pf=pd.read_sql(sql,dbConnection)"
   ]
  },
  {
   "cell_type": "code",
   "execution_count": 31,
   "id": "0010ce42",
   "metadata": {},
   "outputs": [
    {
     "data": {
      "text/html": [
       "<div>\n",
       "<style scoped>\n",
       "    .dataframe tbody tr th:only-of-type {\n",
       "        vertical-align: middle;\n",
       "    }\n",
       "\n",
       "    .dataframe tbody tr th {\n",
       "        vertical-align: top;\n",
       "    }\n",
       "\n",
       "    .dataframe thead th {\n",
       "        text-align: right;\n",
       "    }\n",
       "</style>\n",
       "<table border=\"1\" class=\"dataframe\">\n",
       "  <thead>\n",
       "    <tr style=\"text-align: right;\">\n",
       "      <th></th>\n",
       "      <th>index</th>\n",
       "      <th>runs</th>\n",
       "      <th>opponent</th>\n",
       "      <th>ground</th>\n",
       "      <th>date</th>\n",
       "      <th>match</th>\n",
       "      <th>Match_No</th>\n",
       "      <th>total</th>\n",
       "    </tr>\n",
       "  </thead>\n",
       "  <tbody>\n",
       "    <tr>\n",
       "      <th>0</th>\n",
       "      <td>0</td>\n",
       "      <td>12</td>\n",
       "      <td>SriLanka</td>\n",
       "      <td>Dambulla</td>\n",
       "      <td>18Aug2008</td>\n",
       "      <td>ODI</td>\n",
       "      <td>1</td>\n",
       "      <td>12</td>\n",
       "    </tr>\n",
       "    <tr>\n",
       "      <th>1</th>\n",
       "      <td>1</td>\n",
       "      <td>37</td>\n",
       "      <td>SriLanka</td>\n",
       "      <td>Dambulla</td>\n",
       "      <td>20Aug2008</td>\n",
       "      <td>ODI</td>\n",
       "      <td>2</td>\n",
       "      <td>49</td>\n",
       "    </tr>\n",
       "    <tr>\n",
       "      <th>2</th>\n",
       "      <td>2</td>\n",
       "      <td>25</td>\n",
       "      <td>SriLanka</td>\n",
       "      <td>Colombo(RPS)</td>\n",
       "      <td>24Aug2008</td>\n",
       "      <td>ODI</td>\n",
       "      <td>3</td>\n",
       "      <td>74</td>\n",
       "    </tr>\n",
       "    <tr>\n",
       "      <th>3</th>\n",
       "      <td>3</td>\n",
       "      <td>54</td>\n",
       "      <td>SriLanka</td>\n",
       "      <td>Colombo(RPS)</td>\n",
       "      <td>27Aug2008</td>\n",
       "      <td>ODI</td>\n",
       "      <td>4</td>\n",
       "      <td>128</td>\n",
       "    </tr>\n",
       "    <tr>\n",
       "      <th>4</th>\n",
       "      <td>4</td>\n",
       "      <td>31</td>\n",
       "      <td>SriLanka</td>\n",
       "      <td>Colombo(RPS)</td>\n",
       "      <td>29Aug2008</td>\n",
       "      <td>ODI</td>\n",
       "      <td>5</td>\n",
       "      <td>159</td>\n",
       "    </tr>\n",
       "    <tr>\n",
       "      <th>...</th>\n",
       "      <td>...</td>\n",
       "      <td>...</td>\n",
       "      <td>...</td>\n",
       "      <td>...</td>\n",
       "      <td>...</td>\n",
       "      <td>...</td>\n",
       "      <td>...</td>\n",
       "      <td>...</td>\n",
       "    </tr>\n",
       "    <tr>\n",
       "      <th>511</th>\n",
       "      <td>535</td>\n",
       "      <td>11</td>\n",
       "      <td>England</td>\n",
       "      <td>Birmingham</td>\n",
       "      <td>1Jul2022</td>\n",
       "      <td>Test</td>\n",
       "      <td>512</td>\n",
       "      <td>23661</td>\n",
       "    </tr>\n",
       "    <tr>\n",
       "      <th>512</th>\n",
       "      <td>536</td>\n",
       "      <td>20</td>\n",
       "      <td>England</td>\n",
       "      <td>Birmingham</td>\n",
       "      <td>1Jul2022</td>\n",
       "      <td>Test</td>\n",
       "      <td>513</td>\n",
       "      <td>23681</td>\n",
       "    </tr>\n",
       "    <tr>\n",
       "      <th>513</th>\n",
       "      <td>537</td>\n",
       "      <td>1</td>\n",
       "      <td>England</td>\n",
       "      <td>Birmingham</td>\n",
       "      <td>9Jul2022</td>\n",
       "      <td>T20</td>\n",
       "      <td>514</td>\n",
       "      <td>23682</td>\n",
       "    </tr>\n",
       "    <tr>\n",
       "      <th>514</th>\n",
       "      <td>538</td>\n",
       "      <td>11</td>\n",
       "      <td>England</td>\n",
       "      <td>Nottingham</td>\n",
       "      <td>10Jul2022</td>\n",
       "      <td>T20</td>\n",
       "      <td>515</td>\n",
       "      <td>23693</td>\n",
       "    </tr>\n",
       "    <tr>\n",
       "      <th>515</th>\n",
       "      <td>539</td>\n",
       "      <td>16</td>\n",
       "      <td>England</td>\n",
       "      <td>Lord's</td>\n",
       "      <td>14Jul2022</td>\n",
       "      <td>ODI</td>\n",
       "      <td>516</td>\n",
       "      <td>23709</td>\n",
       "    </tr>\n",
       "  </tbody>\n",
       "</table>\n",
       "<p>516 rows × 8 columns</p>\n",
       "</div>"
      ],
      "text/plain": [
       "     index  runs  opponent        ground       date match  Match_No  total\n",
       "0        0    12  SriLanka      Dambulla  18Aug2008   ODI         1     12\n",
       "1        1    37  SriLanka      Dambulla  20Aug2008   ODI         2     49\n",
       "2        2    25  SriLanka  Colombo(RPS)  24Aug2008   ODI         3     74\n",
       "3        3    54  SriLanka  Colombo(RPS)  27Aug2008   ODI         4    128\n",
       "4        4    31  SriLanka  Colombo(RPS)  29Aug2008   ODI         5    159\n",
       "..     ...   ...       ...           ...        ...   ...       ...    ...\n",
       "511    535    11   England    Birmingham   1Jul2022  Test       512  23661\n",
       "512    536    20   England    Birmingham   1Jul2022  Test       513  23681\n",
       "513    537     1   England    Birmingham   9Jul2022   T20       514  23682\n",
       "514    538    11   England    Nottingham  10Jul2022   T20       515  23693\n",
       "515    539    16   England        Lord's  14Jul2022   ODI       516  23709\n",
       "\n",
       "[516 rows x 8 columns]"
      ]
     },
     "execution_count": 31,
     "metadata": {},
     "output_type": "execute_result"
    }
   ],
   "source": [
    "pf"
   ]
  }
 ],
 "metadata": {
  "kernelspec": {
   "display_name": "Python 3 (ipykernel)",
   "language": "python",
   "name": "python3"
  },
  "language_info": {
   "codemirror_mode": {
    "name": "ipython",
    "version": 3
   },
   "file_extension": ".py",
   "mimetype": "text/x-python",
   "name": "python",
   "nbconvert_exporter": "python",
   "pygments_lexer": "ipython3",
   "version": "3.11.3"
  }
 },
 "nbformat": 4,
 "nbformat_minor": 5
}
